{
 "cells": [
  {
   "cell_type": "markdown",
   "metadata": {},
   "source": [
    "## Notebook 11.2: *denovo* PacBio genome assembly \n",
    "\n",
    "This week's assignment will take quite a bit longer than most others. This is not necessarily because it is more difficult, but because some of the computational steps take a while to run. So please be patient and start early.  \n",
    "\n",
    "\n",
    "### Learning objectives: \n",
    "\n",
    "By the end of this notebook you will:\n",
    "\n",
    "+ Experience running PacBio long-read assembly.\n",
    "+ Compare long read assembly to short-read and hybrid assemblies from notebook 1.\n",
    "+ Learn about alternative assembly software.\n",
    "\n",
    "\n",
    "### Assigned readings: \n",
    "\n",
    "**Read these papers carefully, we will discuss in class:**\n",
    "\n",
    "+ Li, Fay-Wei, and Alex Harkess. “A Guide to Sequence Your Favorite Plant Genomes.” Applications in Plant Sciences 6, no. 3 (n.d.): e1030. https://doi.org/10.1002/aps3.1030.\n",
    "\n",
    "\n",
    "\n",
    "+ Sumpter, Nicholas, Margi Butler, and Russell Poulter. “Single-Phase PacBio De Novo Assembly of the Genome of the Chytrid Fungus Batrachochytrium Dendrobatidis, a Pathogen of Amphibia.” Microbiology Resource Announcements 7, no. 21 (November 2018). https://doi.org/10.1128/MRA.01348-18.\n",
    "\n",
    "\n",
    "\n",
    "**Please skim the paper below, you do not need to read it in detail:** \n",
    "+ Giordano, Francesca, Louise Aigrain, Michael A. Quail, Paul Coupland, James K. Bonfield, Robert M. Davies, German Tischler, et al. “De Novo Yeast Genome Assemblies from MinION, PacBio and MiSeq Platforms.” Scientific Reports 7, no. 1 (June 21, 2017): 3935. https://doi.org/10.1038/s41598-017-03996-z.\n",
    "\n",
    "\n"
   ]
  },
  {
   "cell_type": "code",
   "execution_count": 1,
   "metadata": {},
   "outputs": [],
   "source": [
    "# conda install bioconda::spades\n",
    "# conda install bioconda::cutadapt \n",
    "# conda install bioconda::samtools\n",
    "# conda install bioconda::blast\n",
    "# conda install bioconda::pilon\n",
    "# conda install bioconda::minimap2"
   ]
  },
  {
   "cell_type": "markdown",
   "metadata": {},
   "source": [
    "### Batrachochytrium dendrobatidis genome assembly\n",
    "\n",
    "In this notebook we will continue to examine the published genome assembly data for *Bd* (https://www.ncbi.nlm.nih.gov/pubmed/30533847) composed of PacBio and Illumina reads. In the last notebook we assembled a genome using short-read and hybrid short-read + PacBio data. Here we will assemble the genome using only PacBio long reads. In terms of the algorithms involved in assembly this will employ a quite different approach from the de Bruijn graph based approach used in the first notebook. We will use the assembler `miniasm` as part of an OLC assembly: overlap-layout-consensus. "
   ]
  },
  {
   "cell_type": "markdown",
   "metadata": {},
   "source": [
    "### Overlap: get overlap of PacBio reads\n",
    "Here we align all of the PacBio reads to each other. Remember this is the type of step that we avoid doing in a *de Bruijn* graph based assembly, which is typically employed on short reads. Instead, in an OLC assembly method we start with the all-by-all comparisons. For very large datasets this can be time consuming. New algorithms (e.g., `minimap2` have *dramatically* improved the speed of this step recently. "
   ]
  },
  {
   "cell_type": "code",
   "execution_count": null,
   "metadata": {},
   "outputs": [],
   "source": [
    "%%bash\n",
    "\n",
    "# overlap: get overlap of PacBio reads\n",
    "minimap2 -x ava-pb -t 2 SRR7825134.50K.fastq SRR7825134.50K.fastq > SRR7825134.paf\n"
   ]
  },
  {
   "cell_type": "markdown",
   "metadata": {},
   "source": [
    "Let's take a look at the resulting file, which is a [pairwise alignment file (.paf)](https://github.com/lh3/miniasm/blob/master/PAF.md). This file contains information about the positions where long reads in the data overlap each other. "
   ]
  },
  {
   "cell_type": "markdown",
   "metadata": {},
   "source": [
    "### Layout: assemble contigs from overlapping reads\n",
    "The program `miniasm` is an OLC assembler, it takes the raw data (.fastq) and  with mapping information and constructs contigs based on the overlap among reads. An output is produced in [graphical fragment assembly format (.gfa)](https://github.com/GFA-spec/GFA-spec). We then use the unix tool `awk` to extract the lines from the .gfa file that contain the sequence contigs and write them to a fasta file. "
   ]
  },
  {
   "cell_type": "code",
   "execution_count": null,
   "metadata": {},
   "outputs": [],
   "source": [
    "%%bash\n",
    "\n",
    "# layout: \n",
    "miniasm -f SRR7825134.fastq SRR7825134.paf.gz > SRR7825134.gfa\n",
    "\n",
    "# extract sequence data from PAF to fasta\n",
    "awk '$1 ~/S/ {print \">\"$2\"\\n\"$3}' SRR7825134.gfa > SRR7825134.fasta\n"
   ]
  },
  {
   "cell_type": "markdown",
   "metadata": {},
   "source": [
    "### Consensus: get consensus (GFA to fasta)\n",
    "\n",
    "This step will map the raw reads (.fastq) to the new assembled contigs (.fasta) and save the results in [pairwise alignment file (.paf)](https://github.com/lh3/miniasm/blob/master/PAF.md), just like before. The polishing tool `racon` takes then takes the assembled contigs, the alignment file, and the raw data all together and attempts to fill gaps and correct base calls by comparing raw reads where they map on assembled contigs. This polishing, or consensus step, is common to long-read OLC assembly methods. The mapping step takes only about a minute on this dataset, but polishing takes about 15 minutes. "
   ]
  },
  {
   "cell_type": "code",
   "execution_count": null,
   "metadata": {},
   "outputs": [],
   "source": [
    "%%bash\n",
    "\n",
    "# map raw reads to the long-read assembled contigs (fasta)\n",
    "minimap2 -t 2 SRR7825134.fasta SRR7825134.fastq > SRR7825134.gfa1.paf\n",
    "\n",
    "# polish/correct the assembly using the mapped short reads\n",
    "racon -t 2 SRR7825134.fastq SRR7825134.gfa1.paf SRR7825134.fasta > SRR7825134.racon1.fasta\n"
   ]
  },
  {
   "cell_type": "markdown",
   "metadata": {},
   "source": [
    "### Look at your final genome file\n",
    "This is it. You assembled a genome completely using long-read PacBio data. "
   ]
  },
  {
   "cell_type": "code",
   "execution_count": null,
   "metadata": {},
   "outputs": [],
   "source": [
    "%%bash\n",
    "\n",
    "# run quast on the PacBIo assembled genome\n",
    "quast.py -o results_assembly_3 SRR7825134.racon1.fasta"
   ]
  },
  {
   "cell_type": "markdown",
   "metadata": {},
   "source": [
    "<div class=\"alert alert-success\">\n",
    "    <b>[7] Question:</b> \n",
    "    What are the major differences in terms of the methods that we used versus those Sumpter et al. used to assemble the Bd genome? How do the assembly statistics for our OLC assembly compare to those in the Sumpter et al. paper? Include the statistics you think are important for assessing how they compare in your answer below in Markdown. \n",
    "</div>"
   ]
  },
  {
   "cell_type": "code",
   "execution_count": 2,
   "metadata": {},
   "outputs": [],
   "source": [
    "# answer here"
   ]
  },
  {
   "cell_type": "markdown",
   "metadata": {},
   "source": [
    "<div class=\"alert alert-success\">\n",
    "    <b>[8] Question:</b> \n",
    "    Now that you've completed short-read, long-read, and hybrid assemblies, which method do you think worked best given the smaller low-coverage data sets that we had available (subsampled data we're using for efficiency reasons)? Answer in Markdown below and justify your answer in terms of assembly statistics. \n",
    "</div>"
   ]
  },
  {
   "cell_type": "code",
   "execution_count": null,
   "metadata": {},
   "outputs": [],
   "source": []
  }
 ],
 "metadata": {
  "kernelspec": {
   "display_name": "py27",
   "language": "python",
   "name": "python2"
  },
  "language_info": {
   "codemirror_mode": {
    "name": "ipython",
    "version": 2
   },
   "file_extension": ".py",
   "mimetype": "text/x-python",
   "name": "python",
   "nbconvert_exporter": "python",
   "pygments_lexer": "ipython2",
   "version": "2.7.14"
  }
 },
 "nbformat": 4,
 "nbformat_minor": 2
}
